{
 "metadata": {
  "name": "",
  "signature": "sha256:a1cab0f53a981a4160fe69588d12c6207907bd12177585232b2154577ab8eec5"
 },
 "nbformat": 3,
 "nbformat_minor": 0,
 "worksheets": [
  {
   "cells": [
    {
     "cell_type": "markdown",
     "metadata": {},
     "source": [
      "*The data used in this activity were provided during the NIPS4B\n",
      "workshop in Nevada 2013, in the Bird challenge, organized by Bas,\n",
      "Dufour and Glotin. They shall not be used for another purpose.\n",
      "Publication or report using them shall cite:*\n",
      "\n",
      "*Bas Y., Dufour O., Glotin H., (2013) 'NIP4B Bird Challenge Overview',\n",
      "in Proc. of 'Neural Information Processing Scaled for Bioacoustics:\n",
      "from Neurons to Big Data- NIP4B', Ed. Glotin et al., joint to NIPS\n",
      "Conf., ISSN 979-10-90821-04-0, http://sabiod.org*"
     ]
    },
    {
     "cell_type": "code",
     "collapsed": false,
     "input": [
      "import pandas as pd\n",
      "import sklearn\n",
      "import numpy as np\n",
      "\n",
      "import bird_data as data\n",
      "\n",
      "import transform\n",
      "import classifier\n",
      "import submission_utils\n",
      "import wav_utils\n",
      "\n",
      "from IPython.core.display import HTML"
     ],
     "language": "python",
     "metadata": {},
     "outputs": [
      {
       "output_type": "stream",
       "stream": "stderr",
       "text": [
        "/media/extra/kaggle/bird-recognition/venv/local/lib/python2.7/site-packages/pandas/io/excel.py:626: UserWarning: Installed openpyxl is not supported at this time. Use >=1.6.1 and <2.0.0.\n",
        "  .format(openpyxl_compat.start_ver, openpyxl_compat.stop_ver))\n"
       ]
      }
     ],
     "prompt_number": 1
    },
    {
     "cell_type": "markdown",
     "metadata": {},
     "source": [
      "### Pick a label and optimize for that label"
     ]
    },
    {
     "cell_type": "code",
     "collapsed": false,
     "input": [
      "LABEL = 1"
     ],
     "language": "python",
     "metadata": {},
     "outputs": [],
     "prompt_number": 2
    },
    {
     "cell_type": "code",
     "collapsed": false,
     "input": [
      "clipnames = data.label_df.index.values\n",
      "y = data.label_df[LABEL].values\n",
      "\n",
      "splits = sklearn.cross_validation.StratifiedShuffleSplit(y, n_iter=1, test_size=0.3, random_state=5)\n",
      "train_mask, test_mask = splits.__iter__().next()\n",
      "\n",
      "y_train = y[train_mask]\n",
      "y_test = y[test_mask]\n",
      "\n",
      "train_clipnames = clipnames[train_mask]\n",
      "test_clipnames = clipnames[test_mask]\n",
      "\n",
      "train_mfccs = [data.get_mfcc_array(name) for name in train_clipnames]\n",
      "test_mfccs = [data.get_mfcc_array(name) for name in test_clipnames]"
     ],
     "language": "python",
     "metadata": {},
     "outputs": [],
     "prompt_number": 3
    },
    {
     "cell_type": "code",
     "collapsed": false,
     "input": [
      "WINDOW_LENGTH = 87 # Edit?\n",
      "REDUCE_MFCC_ROW = np.mean # Edit?\n",
      "COLLAPSE_PREDICTION_ROW = np.mean # Edit?"
     ],
     "language": "python",
     "metadata": {},
     "outputs": [],
     "prompt_number": 4
    },
    {
     "cell_type": "code",
     "collapsed": false,
     "input": [
      "window_mfccs = transform.WindowMFCCs(WINDOW_LENGTH, overlap=0.3)\n",
      "window_summarizer = transform.SummarizeWindowedMFCCs(REDUCE_MFCC_ROW) # Reduce each MFCC row\n",
      "  \n",
      "test_windowed_mfccs = window_mfccs.transform(test_mfccs)\n",
      "train_windowed_mfccs = window_mfccs.transform(train_mfccs)\n",
      "\n",
      "test_summarized_mfccs = window_summarizer.transform(test_windowed_mfccs)\n",
      "train_summarized_mfccs = window_summarizer.transform(train_windowed_mfccs)"
     ],
     "language": "python",
     "metadata": {},
     "outputs": [],
     "prompt_number": 5
    },
    {
     "cell_type": "code",
     "collapsed": false,
     "input": [
      "clf = classifier.LabelDistributingBinaryForest(\n",
      "    n_jobs= 1, # Increase this if you can spare more than one core\n",
      "    n_estimators = 400,\n",
      ")"
     ],
     "language": "python",
     "metadata": {},
     "outputs": [],
     "prompt_number": 6
    },
    {
     "cell_type": "code",
     "collapsed": false,
     "input": [
      "clf.fit(train_summarized_mfccs, y_train)"
     ],
     "language": "python",
     "metadata": {},
     "outputs": [],
     "prompt_number": 7
    },
    {
     "cell_type": "code",
     "collapsed": false,
     "input": [
      "window_predictions = clf.transform(test_summarized_mfccs)\n",
      "prediction_collapser = transform.CollapseWindowPredictions(COLLAPSE_PREDICTION_ROW)\n",
      "list_of_preds = prediction_collapser.transform(window_predictions)\n",
      "pred_df = pd.DataFrame(np.array(list_of_preds), index=test_clipnames, columns=[LABEL])"
     ],
     "language": "python",
     "metadata": {},
     "outputs": [],
     "prompt_number": 9
    },
    {
     "cell_type": "code",
     "collapsed": false,
     "input": [
      "pred_df.head()"
     ],
     "language": "python",
     "metadata": {},
     "outputs": [
      {
       "html": [
        "<div style=\"max-height:1000px;max-width:1500px;overflow:auto;\">\n",
        "<table border=\"1\" class=\"dataframe\">\n",
        "  <thead>\n",
        "    <tr style=\"text-align: right;\">\n",
        "      <th></th>\n",
        "      <th>1</th>\n",
        "    </tr>\n",
        "  </thead>\n",
        "  <tbody>\n",
        "    <tr>\n",
        "      <th>nips4b_birds_trainfile535.wav</th>\n",
        "      <td> 0.000714</td>\n",
        "    </tr>\n",
        "    <tr>\n",
        "      <th>nips4b_birds_trainfile552.wav</th>\n",
        "      <td> 0.000119</td>\n",
        "    </tr>\n",
        "    <tr>\n",
        "      <th>nips4b_birds_trainfile455.wav</th>\n",
        "      <td> 0.001905</td>\n",
        "    </tr>\n",
        "    <tr>\n",
        "      <th>nips4b_birds_trainfile006.wav</th>\n",
        "      <td> 0.000909</td>\n",
        "    </tr>\n",
        "    <tr>\n",
        "      <th>nips4b_birds_trainfile381.wav</th>\n",
        "      <td> 0.002708</td>\n",
        "    </tr>\n",
        "  </tbody>\n",
        "</table>\n",
        "</div>"
       ],
       "metadata": {},
       "output_type": "pyout",
       "prompt_number": 12,
       "text": [
        "                                      1\n",
        "nips4b_birds_trainfile535.wav  0.000714\n",
        "nips4b_birds_trainfile552.wav  0.000119\n",
        "nips4b_birds_trainfile455.wav  0.001905\n",
        "nips4b_birds_trainfile006.wav  0.000909\n",
        "nips4b_birds_trainfile381.wav  0.002708"
       ]
      }
     ],
     "prompt_number": 12
    },
    {
     "cell_type": "code",
     "collapsed": false,
     "input": [
      "sklearn.metrics.roc_auc_score(y_test, list_of_preds)"
     ],
     "language": "python",
     "metadata": {},
     "outputs": [
      {
       "metadata": {},
       "output_type": "pyout",
       "prompt_number": 19,
       "text": [
        "0.97549019607843135"
       ]
      }
     ],
     "prompt_number": 19
    },
    {
     "cell_type": "markdown",
     "metadata": {},
     "source": [
      "### Considerations\n",
      "1. What are the trade-offs in picking a window size?\n",
      "2. What are the trade-offs in turning window predictions to clip predictions?\n",
      "\n",
      "### Exercises\n",
      "1. Optimize for the label you chose by changing the window size\n",
      "2. If you find what could be an improvement, check it on other folds by changing random_state and redoing the train/test split \n",
      "\n",
      "### Bonus Exercises\n",
      "1. Capture more time structure in the MFCCs. Right now we are time-averaging them\n",
      "2. Visualize the windows on the spectrogram\n",
      "\n",
      "Remember to share your code if it could be useful to others"
     ]
    },
    {
     "cell_type": "code",
     "collapsed": false,
     "input": [],
     "language": "python",
     "metadata": {},
     "outputs": []
    }
   ],
   "metadata": {}
  }
 ]
}