{
 "metadata": {
  "name": "",
  "signature": "sha256:de240f4147d9ec3202391a9320df6042d6c7e230815f42d813c38783313e587f"
 },
 "nbformat": 3,
 "nbformat_minor": 0,
 "worksheets": [
  {
   "cells": [
    {
     "cell_type": "markdown",
     "metadata": {},
     "source": [
      "*The data used in this activity were provided during the NIPS4B\n",
      "workshop in Nevada 2013, in the Bird challenge, organized by Bas,\n",
      "Dufour and Glotin. They shall not be used for another purpose.\n",
      "Publication or report using them shall cite:*\n",
      "\n",
      "*Bas Y., Dufour O., Glotin H., (2013) 'NIP4B Bird Challenge Overview',\n",
      "in Proc. of 'Neural Information Processing Scaled for Bioacoustics:\n",
      "from Neurons to Big Data- NIP4B', Ed. Glotin et al., joint to NIPS\n",
      "Conf., ISSN 979-10-90821-04-0, http://sabiod.org*"
     ]
    },
    {
     "cell_type": "code",
     "collapsed": false,
     "input": [
      "import pandas as pd\n",
      "import sklearn\n",
      "import numpy as np\n",
      "\n",
      "import bird_data as data\n",
      "\n",
      "import transform\n",
      "import classifier\n",
      "import submission_utils\n",
      "import wav_utils\n",
      "\n",
      "from IPython.core.display import HTML"
     ],
     "language": "python",
     "metadata": {},
     "outputs": [
      {
       "output_type": "stream",
       "stream": "stderr",
       "text": [
        "/media/extra/kaggle/bird-recognition/venv/local/lib/python2.7/site-packages/pandas/io/excel.py:626: UserWarning: Installed openpyxl is not supported at this time. Use >=1.6.1 and <2.0.0.\n",
        "  .format(openpyxl_compat.start_ver, openpyxl_compat.stop_ver))\n"
       ]
      }
     ],
     "prompt_number": 1
    },
    {
     "cell_type": "markdown",
     "metadata": {},
     "source": [
      "### Copy the settings you decided on"
     ]
    },
    {
     "cell_type": "code",
     "collapsed": false,
     "input": [
      "LABEL = 1\n",
      "WINDOW_LENGTH = 87 # Edit?\n",
      "REDUCE_MFCC_ROW = np.mean # Edit?\n",
      "COLLAPSE_PREDICTION_ROW = np.mean # Edit?"
     ],
     "language": "python",
     "metadata": {},
     "outputs": [],
     "prompt_number": 2
    },
    {
     "cell_type": "markdown",
     "metadata": {},
     "source": [
      "### Train on all the labeled data"
     ]
    },
    {
     "cell_type": "code",
     "collapsed": false,
     "input": [
      "train_clipnames = data.get_clip_names(test=False)\n",
      "test_clipnames = data.get_clip_names(test=True)\n",
      "\n",
      "y_train = data.label_df[LABEL].values\n",
      "\n",
      "train_mfccs = [data.get_mfcc_array(name) for name in train_clipnames]\n",
      "test_mfccs = [data.get_mfcc_array(name) for name in test_clipnames]"
     ],
     "language": "python",
     "metadata": {},
     "outputs": [],
     "prompt_number": 3
    },
    {
     "cell_type": "code",
     "collapsed": false,
     "input": [
      "window_mfccs = transform.WindowMFCCs(WINDOW_LENGTH, overlap=0.3)\n",
      "window_summarizer = transform.SummarizeWindowedMFCCs(REDUCE_MFCC_ROW) # Reduce each MFCC row\n",
      "  \n",
      "test_windowed_mfccs = window_mfccs.transform(test_mfccs)\n",
      "train_windowed_mfccs = window_mfccs.transform(train_mfccs)\n",
      "\n",
      "test_summarized_mfccs = window_summarizer.transform(test_windowed_mfccs)\n",
      "train_summarized_mfccs = window_summarizer.transform(train_windowed_mfccs)"
     ],
     "language": "python",
     "metadata": {},
     "outputs": [],
     "prompt_number": 4
    },
    {
     "cell_type": "code",
     "collapsed": false,
     "input": [
      "clf = classifier.LabelDistributingBinaryForest(\n",
      "    n_jobs= 1, # Increase this if you can spare more than one core\n",
      "    n_estimators = 400,\n",
      ")"
     ],
     "language": "python",
     "metadata": {},
     "outputs": [],
     "prompt_number": 5
    },
    {
     "cell_type": "code",
     "collapsed": false,
     "input": [
      "clf.fit(train_summarized_mfccs, y_train)"
     ],
     "language": "python",
     "metadata": {},
     "outputs": [],
     "prompt_number": 6
    },
    {
     "cell_type": "code",
     "collapsed": false,
     "input": [
      "window_predictions = clf.transform(test_summarized_mfccs)\n",
      "prediction_collapser = transform.CollapseWindowPredictions(COLLAPSE_PREDICTION_ROW)\n",
      "list_of_preds = prediction_collapser.transform(window_predictions)\n",
      "pred_df = pd.DataFrame(np.array(list_of_preds), index=test_clipnames, columns=[LABEL])\n",
      "\n",
      "# Save the submission\n",
      "submission_path = 'single%d_mattw.csv' %LABEL\n",
      "submission_utils.write_submission_csv(pred_df, submission_path)"
     ],
     "language": "python",
     "metadata": {},
     "outputs": [],
     "prompt_number": 8
    },
    {
     "cell_type": "code",
     "collapsed": false,
     "input": [
      "!head {submission_path}"
     ],
     "language": "python",
     "metadata": {},
     "outputs": [
      {
       "output_type": "stream",
       "stream": "stdout",
       "text": [
        "ID,Probability\r\n",
        "nips4b_birds_testfile0001.wav_classnumber_1,0.005714\r\n",
        "nips4b_birds_testfile0002.wav_classnumber_1,0.009762\r\n",
        "nips4b_birds_testfile0003.wav_classnumber_1,0.006429\r\n",
        "nips4b_birds_testfile0004.wav_classnumber_1,0.007262\r\n",
        "nips4b_birds_testfile0005.wav_classnumber_1,0.017738\r\n",
        "nips4b_birds_testfile0006.wav_classnumber_1,0.015476\r\n",
        "nips4b_birds_testfile0007.wav_classnumber_1,0.012857\r\n",
        "nips4b_birds_testfile0008.wav_classnumber_1,0.011429\r\n",
        "nips4b_birds_testfile0009.wav_classnumber_1,0.008690\r\n"
       ]
      }
     ],
     "prompt_number": 9
    },
    {
     "cell_type": "markdown",
     "metadata": {},
     "source": [
      "### Exercises\n",
      "1. Build a submission using the settings decided on in SingleLabelModel.ipynb"
     ]
    },
    {
     "cell_type": "code",
     "collapsed": false,
     "input": [],
     "language": "python",
     "metadata": {},
     "outputs": []
    }
   ],
   "metadata": {}
  }
 ]
}