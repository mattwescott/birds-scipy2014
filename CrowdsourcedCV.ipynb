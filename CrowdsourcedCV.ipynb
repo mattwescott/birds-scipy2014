{
 "metadata": {
  "name": "",
  "signature": "sha256:aac6942d8a2c0a0cf404401bc73a697cf332af226b6ee4b359dea3d085fb8268"
 },
 "nbformat": 3,
 "nbformat_minor": 0,
 "worksheets": [
  {
   "cells": [
    {
     "cell_type": "markdown",
     "metadata": {},
     "source": [
      "# Model the Birds"
     ]
    },
    {
     "cell_type": "markdown",
     "metadata": {},
     "source": [
      "*The data used in this activity were provided during the NIPS4B\n",
      "workshop in Nevada 2013, in the Bird challenge, organized by Bas,\n",
      "Dufour and Glotin. They shall not be used for another purpose.\n",
      "Publication or report using them shall cite:*\n",
      "\n",
      "*Bas Y., Dufour O., Glotin H., (2013) 'NIP4B Bird Challenge Overview',\n",
      "in Proc. of 'Neural Information Processing Scaled for Bioacoustics:\n",
      "from Neurons to Big Data- NIP4B', Ed. Glotin et al., joint to NIPS\n",
      "Conf., ISSN 979-10-90821-04-0, http://sabiod.org*"
     ]
    },
    {
     "cell_type": "code",
     "collapsed": false,
     "input": [
      "import pandas as pd\n",
      "import numpy as np\n",
      "import sklearn\n",
      "\n",
      "\n",
      "import bird_data as data\n",
      "\n",
      "import transform\n",
      "import classifier\n",
      "import submission_utils\n",
      "import wav_utils\n",
      "\n",
      "from IPython.core.display import HTML\n",
      "\n",
      "%pylab inline"
     ],
     "language": "python",
     "metadata": {},
     "outputs": [
      {
       "output_type": "stream",
       "stream": "stdout",
       "text": [
        "Populating the interactive namespace from numpy and matplotlib\n"
       ]
      },
      {
       "output_type": "stream",
       "stream": "stderr",
       "text": [
        "WARNING: pylab import has clobbered these variables: ['clf']\n",
        "`%matplotlib` prevents importing * from pylab and numpy\n"
       ]
      }
     ],
     "prompt_number": 40
    },
    {
     "cell_type": "markdown",
     "metadata": {},
     "source": [
      "## Split dataset into test and training\n",
      "\n",
      "Eventually we'll want to train on all the labeled data, and predict labels for the 1000 unlabeled audio clips. \n",
      "\n",
      "For now, let's split off a portion of the labeled data and keep it separate so we can test the model predictions."
     ]
    },
    {
     "cell_type": "code",
     "collapsed": false,
     "input": [
      "clipnames = data.label_df.index.values\n",
      "# Typically we'd pass a random state to ShuffleSplit for replicability. Now we are more interestd in crowdsourced variety\n",
      "splits = sklearn.cross_validation.ShuffleSplit(n=clipnames.size, test_size=0.2)\n",
      "train_mask, test_mask = splits.__iter__().next()\n",
      "\n",
      "train_clipnames = clipnames[train_mask]\n",
      "test_clipnames = clipnames[test_mask]"
     ],
     "language": "python",
     "metadata": {},
     "outputs": [],
     "prompt_number": 41
    },
    {
     "cell_type": "markdown",
     "metadata": {},
     "source": [
      "## Get the MFCC features for each clip"
     ]
    },
    {
     "cell_type": "code",
     "collapsed": false,
     "input": [
      "train_mfcc_arrays = [data.get_mfcc_array(filename) for filename in train_clipnames] # N_training_clips x N_mfcc_frames x N_mfcc_coefficients\n",
      "test_mfcc_arrays = [data.get_mfcc_array(filename) for filename in test_clipnames]"
     ],
     "language": "python",
     "metadata": {},
     "outputs": [],
     "prompt_number": 42
    },
    {
     "cell_type": "code",
     "collapsed": false,
     "input": [
      "print(test_mfcc_arrays[0].shape) # N_mfcc_frames x N_mfcc_coefficients"
     ],
     "language": "python",
     "metadata": {},
     "outputs": [
      {
       "output_type": "stream",
       "stream": "stdout",
       "text": [
        "(670, 17)\n"
       ]
      }
     ],
     "prompt_number": 43
    },
    {
     "cell_type": "markdown",
     "metadata": {},
     "source": [
      "## Build the Model"
     ]
    },
    {
     "cell_type": "code",
     "collapsed": false,
     "input": [
      "WINDOW_LENGTH = 87 # Frame size 11.6 ms, frame shift 3.9 ms. So a WINDOW_LENGTH of 20 would be about 80ms long"
     ],
     "language": "python",
     "metadata": {},
     "outputs": [],
     "prompt_number": 44
    },
    {
     "cell_type": "markdown",
     "metadata": {},
     "source": [
      "#### Window the MFCCs with overlap"
     ]
    },
    {
     "cell_type": "code",
     "collapsed": false,
     "input": [
      "window_mfccs = transform.WindowMFCCs(window_length=WINDOW_LENGTH, overlap=0.8)"
     ],
     "language": "python",
     "metadata": {},
     "outputs": [],
     "prompt_number": 45
    },
    {
     "cell_type": "code",
     "collapsed": false,
     "input": [
      "train_windowed_mfccs = window_mfccs.transform(train_mfcc_arrays)\n",
      "test_windowed_mfccs = window_mfccs.transform(test_mfcc_arrays)"
     ],
     "language": "python",
     "metadata": {},
     "outputs": [],
     "prompt_number": 46
    },
    {
     "cell_type": "markdown",
     "metadata": {},
     "source": [
      "Each window has a feature array of N_mfcc_fames_per_window x N_mfcc_coefficients"
     ]
    },
    {
     "cell_type": "code",
     "collapsed": false,
     "input": [
      "print(train_windowed_mfccs[0][0].shape) # N_mfcc_frames_in_window x N_mffc_coefficients"
     ],
     "language": "python",
     "metadata": {},
     "outputs": [
      {
       "output_type": "stream",
       "stream": "stdout",
       "text": [
        "(87, 17)\n"
       ]
      }
     ],
     "prompt_number": 47
    },
    {
     "cell_type": "markdown",
     "metadata": {},
     "source": [
      "#### Reduce the dimensionality of the windows"
     ]
    },
    {
     "cell_type": "code",
     "collapsed": false,
     "input": [
      "REDUCE_MFCC_ROW = np.mean"
     ],
     "language": "python",
     "metadata": {},
     "outputs": [],
     "prompt_number": 48
    },
    {
     "cell_type": "code",
     "collapsed": false,
     "input": [
      "window_summarizer = transform.SummarizeWindowedMFCCs(REDUCE_MFCC_ROW) # Reduce each mfcc row to a feature "
     ],
     "language": "python",
     "metadata": {},
     "outputs": [],
     "prompt_number": 49
    },
    {
     "cell_type": "code",
     "collapsed": false,
     "input": [
      "train_features = window_summarizer.transform(train_windowed_mfccs) # N_training_examples x N_windows x N_features_per_window\n",
      "test_features = window_summarizer.transform(test_windowed_mfccs)"
     ],
     "language": "python",
     "metadata": {},
     "outputs": [],
     "prompt_number": 50
    },
    {
     "cell_type": "code",
     "collapsed": false,
     "input": [
      "print(train_features[0].shape) # N_windows x N_features_per_window"
     ],
     "language": "python",
     "metadata": {},
     "outputs": [
      {
       "output_type": "stream",
       "stream": "stdout",
       "text": [
        "(71, 17)\n"
       ]
      }
     ],
     "prompt_number": 51
    },
    {
     "cell_type": "markdown",
     "metadata": {},
     "source": [
      "#### Train a random forest by distributing the clip labels to the windows in that clip"
     ]
    },
    {
     "cell_type": "code",
     "collapsed": false,
     "input": [
      "clf = classifier.LabelDistributingBinaryForest(\n",
      "    n_jobs= 1, # Increase this if you can spare more than one core\n",
      "    n_estimators = 40,     # Start with 5 trees and see how long it takes to fit\n",
      "    min_samples_leaf = 2,\n",
      "    min_samples_split = 5,\n",
      "    oob_score=True\n",
      ")\n",
      "\n",
      "# Pull out labels for just the training examples\n",
      "label_matrix = data.label_df.ix[train_clipnames].values\n",
      "clf.fit(train_features, label_matrix)"
     ],
     "language": "python",
     "metadata": {},
     "outputs": [],
     "prompt_number": 52
    },
    {
     "cell_type": "markdown",
     "metadata": {},
     "source": [
      "#### Predict the label probabilities for each window"
     ]
    },
    {
     "cell_type": "code",
     "collapsed": false,
     "input": [
      "window_predictions = clf.transform(test_features)"
     ],
     "language": "python",
     "metadata": {},
     "outputs": [],
     "prompt_number": 53
    },
    {
     "cell_type": "markdown",
     "metadata": {},
     "source": [
      "#### Convert window predictions to clip predictions"
     ]
    },
    {
     "cell_type": "code",
     "collapsed": false,
     "input": [
      "COLLAPSE_PREDICTION_ROW = np.mean"
     ],
     "language": "python",
     "metadata": {},
     "outputs": [],
     "prompt_number": 54
    },
    {
     "cell_type": "code",
     "collapsed": false,
     "input": [
      "prediction_collapser = transform.CollapseWindowPredictions(COLLAPSE_PREDICTION_ROW)\n",
      "prediction_matrix = prediction_collapser.transform(window_predictions)"
     ],
     "language": "python",
     "metadata": {},
     "outputs": [],
     "prompt_number": 55
    },
    {
     "cell_type": "code",
     "collapsed": false,
     "input": [
      "print(prediction_matrix.shape)\n",
      "print(prediction_matrix)"
     ],
     "language": "python",
     "metadata": {},
     "outputs": [
      {
       "output_type": "stream",
       "stream": "stdout",
       "text": [
        "(138, 87)\n",
        "[[ 0.22011565  0.          0.00071429 ...,  0.00107143  0.          0.        ]\n",
        " [ 0.00402414  0.05330776  0.00228873 ...,  0.00228873  0.          0.        ]\n",
        " [ 0.          0.          0.11917519 ...,  0.0132977   0.0035555\n",
        "   0.09435055]\n",
        " ..., \n",
        " [ 0.          0.          0.06442069 ...,  0.          0.          0.        ]\n",
        " [ 0.          0.02606891  0.00070423 ...,  0.0456338   0.          0.01841549]\n",
        " [ 0.00161972  0.00704225  0.         ...,  0.00336268  0.00105634\n",
        "   0.00265258]]\n"
       ]
      }
     ],
     "prompt_number": 56
    },
    {
     "cell_type": "markdown",
     "metadata": {},
     "source": [
      "#### Show the truth"
     ]
    },
    {
     "cell_type": "code",
     "collapsed": false,
     "input": [
      "truth_matrix = data.label_df.ix[test_clipnames].values\n",
      "print(truth_matrix.shape)\n",
      "print(truth_matrix)"
     ],
     "language": "python",
     "metadata": {},
     "outputs": [
      {
       "output_type": "stream",
       "stream": "stdout",
       "text": [
        "(138, 87)\n",
        "[[ 0.  0.  0. ...,  0.  0.  0.]\n",
        " [ 0.  0.  0. ...,  0.  0.  0.]\n",
        " [ 0.  0.  1. ...,  0.  0.  0.]\n",
        " ..., \n",
        " [ 0.  0.  0. ...,  0.  0.  0.]\n",
        " [ 0.  0.  0. ...,  0.  0.  0.]\n",
        " [ 0.  0.  0. ...,  0.  0.  0.]]\n"
       ]
      }
     ],
     "prompt_number": 57
    },
    {
     "cell_type": "markdown",
     "metadata": {},
     "source": [
      "## Evaluate the model"
     ]
    },
    {
     "cell_type": "markdown",
     "metadata": {},
     "source": [
      "#### Calculate AUROC"
     ]
    },
    {
     "cell_type": "code",
     "collapsed": false,
     "input": [
      "sklearn.metrics.auc_score(truth_matrix.ravel(), prediction_matrix.ravel())"
     ],
     "language": "python",
     "metadata": {},
     "outputs": [
      {
       "output_type": "stream",
       "stream": "stderr",
       "text": [
        "/media/extra/kaggle/bird-recognition/venv/local/lib/python2.7/site-packages/sklearn/utils/__init__.py:93: DeprecationWarning: Function auc_score is deprecated; Function 'auc_score' has been renamed to 'roc_auc_score' and will be removed in release 0.16.\n",
        "  warnings.warn(msg, category=DeprecationWarning)\n"
       ]
      },
      {
       "metadata": {},
       "output_type": "pyout",
       "prompt_number": 65,
       "text": [
        "0.93856438852028545"
       ]
      }
     ],
     "prompt_number": 65
    },
    {
     "cell_type": "markdown",
     "metadata": {},
     "source": [
      "#### Plot the ROC curve"
     ]
    },
    {
     "cell_type": "code",
     "collapsed": false,
     "input": [
      "tpr, fpr, thresholds = sklearn.metrics.roc_curve(truth_matrix.ravel(), prediction_matrix.ravel())\n",
      "plot(tpr, fpr)"
     ],
     "language": "python",
     "metadata": {},
     "outputs": [
      {
       "metadata": {},
       "output_type": "pyout",
       "prompt_number": 66,
       "text": [
        "[<matplotlib.lines.Line2D at 0x195b5450>]"
       ]
      },
      {
       "metadata": {},
       "output_type": "display_data",
       "png": "[encoded data removed]",
       "text": [
        "<matplotlib.figure.Figure at 0x1405bf50>"
       ]
      }
     ],
     "prompt_number": 66
    },
    {
     "cell_type": "markdown",
     "metadata": {},
     "source": [
      "## Prioritize calls for independent classification\n",
      "\n",
      "Let's each choose five labels that appear most likely to benefit from independent classification. \n",
      "\n",
      "### Considerations\n",
      "\n",
      "1. What are the trade-offs in using a multi-output random forest, instead of building an independent classifier for each label?\n",
      "2. What is the most egregious approximation that went into building this model?\n",
      "3. How might we decide which labels are likely to perform badly under this architecture and with this approximation?\n",
      "\n",
      "### Possibilities\n",
      "\n",
      "1. Which labels are implausibly strongly correlated with other labels in the training data\n",
      "2. Which labels are confidently predicted where they are absent (false positives)?\n",
      "3. Are these confident false predictions in place of one or more true labels, or they in addition to the true labels? Plotting the window predictions next to the spectrogram may help get at this.\n",
      "\n",
      "### Exercises\n",
      "\n",
      "1. Pick one of the possibilities above (or go your own way) and decide on five labels to prioritize for improvement\n",
      "2. Vote for your choices [here](http://bit.ly/scipy-prioritize-birds)\n"
     ]
    },
    {
     "cell_type": "markdown",
     "metadata": {},
     "source": [
      "## Some examples which may be helpful for exercises\n",
      "\n",
      "Please share reusable code in [exercises google doc](http://bit.ly/bird-tutorial-exercises)"
     ]
    },
    {
     "cell_type": "markdown",
     "metadata": {},
     "source": [
      "#### Find clips with a particular call"
     ]
    },
    {
     "cell_type": "code",
     "collapsed": false,
     "input": [
      "def call_id_to_clips(call_id):\n",
      "    \"Find the clips that contain a particular call\"\n",
      "    return data.label_df.index[data.label_df[call_id] == 1]\n",
      "\n",
      "wav_utils.view_clip(call_id_to_clips(33)[0])"
     ],
     "language": "python",
     "metadata": {},
     "outputs": [
      {
       "metadata": {},
       "output_type": "display_data",
       "png": "[encoded data removed]",
       "text": [
        "<matplotlib.figure.Figure at 0x1406c2d0>"
       ]
      },
      {
       "html": [
        "\n",
        "    <head>\n",
        "    <meta http-equiv=\"Content-Type\" content=\"text/html; charset=utf-8\">\n",
        "    </head>\n",
        "\n",
        "    <body>\n",
        "    <audio controls=\"controls\" style=\"width:555px\" >\n",
        "      <source src=\"files/data/NIPS4B_BIRD_CHALLENGE_TRAIN_TEST_WAV/train/nips4b_birds_trainfile040.wav\" type=\"audio/wav\" />\n",
        "      Your browser does not support the audio element.\n",
        "    </audio>\n",
        "    </body>\n",
        "    <table border=\"1\" class=\"dataframe\">\n",
        "  <thead>\n",
        "    <tr style=\"text-align: right;\">\n",
        "      <th></th>\n",
        "      <th>English_name</th>\n",
        "      <th>type</th>\n",
        "    </tr>\n",
        "    <tr>\n",
        "      <th>call_ids</th>\n",
        "      <th></th>\n",
        "      <th></th>\n",
        "    </tr>\n",
        "  </thead>\n",
        "  <tbody>\n",
        "    <tr>\n",
        "      <th>21</th>\n",
        "      <td>         Cirl Bunting</td>\n",
        "      <td> bird</td>\n",
        "    </tr>\n",
        "    <tr>\n",
        "      <th>33</th>\n",
        "      <td> European Crested Tit</td>\n",
        "      <td> bird</td>\n",
        "    </tr>\n",
        "    <tr>\n",
        "      <th>69</th>\n",
        "      <td>    Eurasian Nuthatch</td>\n",
        "      <td> bird</td>\n",
        "    </tr>\n",
        "  </tbody>\n",
        "</table>"
       ],
       "metadata": {},
       "output_type": "pyout",
       "prompt_number": 67,
       "text": [
        "<IPython.core.display.HTML at 0x195d5510>"
       ]
      }
     ],
     "prompt_number": 67
    },
    {
     "cell_type": "markdown",
     "metadata": {},
     "source": [
      "#### Set predictions for labels not present to zero"
     ]
    },
    {
     "cell_type": "code",
     "collapsed": false,
     "input": [
      "truth_matrix*prediction_matrix"
     ],
     "language": "python",
     "metadata": {},
     "outputs": [
      {
       "metadata": {},
       "output_type": "pyout",
       "prompt_number": 68,
       "text": [
        "array([[ 0.        ,  0.        ,  0.        , ...,  0.        ,\n",
        "         0.        ,  0.        ],\n",
        "       [ 0.        ,  0.        ,  0.        , ...,  0.        ,\n",
        "         0.        ,  0.        ],\n",
        "       [ 0.        ,  0.        ,  0.11917519, ...,  0.        ,\n",
        "         0.        ,  0.        ],\n",
        "       ..., \n",
        "       [ 0.        ,  0.        ,  0.        , ...,  0.        ,\n",
        "         0.        ,  0.        ],\n",
        "       [ 0.        ,  0.        ,  0.        , ...,  0.        ,\n",
        "         0.        ,  0.        ],\n",
        "       [ 0.        ,  0.        ,  0.        , ...,  0.        ,\n",
        "         0.        ,  0.        ]])"
       ]
      }
     ],
     "prompt_number": 68
    },
    {
     "cell_type": "markdown",
     "metadata": {},
     "source": [
      "#### Set predictions for labels that are present to zero"
     ]
    },
    {
     "cell_type": "code",
     "collapsed": false,
     "input": [
      "(1-truth_matrix)*prediction_matrix"
     ],
     "language": "python",
     "metadata": {},
     "outputs": [
      {
       "metadata": {},
       "output_type": "pyout",
       "prompt_number": 69,
       "text": [
        "array([[ 0.22011565,  0.        ,  0.00071429, ...,  0.00107143,\n",
        "         0.        ,  0.        ],\n",
        "       [ 0.00402414,  0.05330776,  0.00228873, ...,  0.00228873,\n",
        "         0.        ,  0.        ],\n",
        "       [ 0.        ,  0.        ,  0.        , ...,  0.0132977 ,\n",
        "         0.0035555 ,  0.09435055],\n",
        "       ..., \n",
        "       [ 0.        ,  0.        ,  0.06442069, ...,  0.        ,\n",
        "         0.        ,  0.        ],\n",
        "       [ 0.        ,  0.02606891,  0.00070423, ...,  0.0456338 ,\n",
        "         0.        ,  0.01841549],\n",
        "       [ 0.00161972,  0.00704225,  0.        , ...,  0.00336268,\n",
        "         0.00105634,  0.00265258]])"
       ]
      }
     ],
     "prompt_number": 69
    },
    {
     "cell_type": "code",
     "collapsed": false,
     "input": [],
     "language": "python",
     "metadata": {},
     "outputs": []
    }
   ],
   "metadata": {}
  }
 ]
}