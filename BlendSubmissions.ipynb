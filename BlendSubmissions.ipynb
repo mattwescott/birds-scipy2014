{
 "metadata": {
  "name": "",
  "signature": "sha256:f5693bb28c377665e30b27dd2546c5fd99e292734e87d79e28857ddc97c896b4"
 },
 "nbformat": 3,
 "nbformat_minor": 0,
 "worksheets": [
  {
   "cells": [
    {
     "cell_type": "markdown",
     "metadata": {},
     "source": [
      "# Blending Example"
     ]
    },
    {
     "cell_type": "markdown",
     "metadata": {},
     "source": [
      "*The data used in this activity were provided during the NIPS4B\n",
      "workshop in Nevada 2013, in the Bird challenge, organized by Bas,\n",
      "Dufour and Glotin. They shall not be used for another purpose.\n",
      "Publication or report using them shall cite:*\n",
      "\n",
      "*Bas Y., Dufour O., Glotin H., (2013) 'NIP4B Bird Challenge Overview',\n",
      "in Proc. of 'Neural Information Processing Scaled for Bioacoustics:\n",
      "from Neurons to Big Data- NIP4B', Ed. Glotin et al., joint to NIPS\n",
      "Conf., ISSN 979-10-90821-04-0, http://sabiod.org*"
     ]
    },
    {
     "cell_type": "code",
     "collapsed": false,
     "input": [
      "import numpy as np\n",
      "import pandas as pd"
     ],
     "language": "python",
     "metadata": {},
     "outputs": [],
     "prompt_number": 28
    },
    {
     "cell_type": "code",
     "collapsed": false,
     "input": [
      "def load_submission(p):\n",
      "    \"\"\"Load the submission file into a DF structured to prevent blending errors\"\"\"\n",
      "    df = pd.read_csv(p)\n",
      "    df.ID = df.ID.astype(str)\n",
      "    df = df.sort('ID')\n",
      "    df = df.set_index('ID')\n",
      "    df.Probability = df.Probability.astype(float)\n",
      "    df.Probability = df.Probability / df.Probability.max()\n",
      "    \n",
      "    return df\n",
      "\n",
      "def save_submission(df, p):\n",
      "    df.reset_index().to_csv(p, index=False)"
     ],
     "language": "python",
     "metadata": {},
     "outputs": [],
     "prompt_number": 29
    },
    {
     "cell_type": "code",
     "collapsed": false,
     "input": [
      "our_best = load_submission('submissions/our_best.csv')"
     ],
     "language": "python",
     "metadata": {},
     "outputs": [],
     "prompt_number": 31
    },
    {
     "cell_type": "code",
     "collapsed": false,
     "input": [
      "blended_df = our_best.copy()\n",
      "\n",
      "single_label_df = load_submission('single19.csv')\n",
      "\n",
      "# Here we combine by replacing the predictions for the single label\n",
      "blended_df.update(single_label_df)"
     ],
     "language": "python",
     "metadata": {},
     "outputs": [],
     "prompt_number": 32
    },
    {
     "cell_type": "code",
     "collapsed": false,
     "input": [
      "save_submission(blended_df, 'blended.csv')"
     ],
     "language": "python",
     "metadata": {},
     "outputs": [],
     "prompt_number": 33
    },
    {
     "cell_type": "code",
     "collapsed": false,
     "input": [
      "!head blended.csv"
     ],
     "language": "python",
     "metadata": {},
     "outputs": [
      {
       "output_type": "stream",
       "stream": "stdout",
       "text": [
        "ID,Probability\r\n",
        "nips4b_birds_testfile0001.wav_classnumber_1,0.0003657055861782251\r\n",
        "nips4b_birds_testfile0001.wav_classnumber_10,0.02568958994499263\r\n",
        "nips4b_birds_testfile0001.wav_classnumber_11,0.0003423410626168385\r\n",
        "nips4b_birds_testfile0001.wav_classnumber_12,0.0014429498015750904\r\n",
        "nips4b_birds_testfile0001.wav_classnumber_13,0.0006703332602204341\r\n",
        "nips4b_birds_testfile0001.wav_classnumber_14,0.0002731363596768619\r\n",
        "nips4b_birds_testfile0001.wav_classnumber_15,0.0005218076928709675\r\n",
        "nips4b_birds_testfile0001.wav_classnumber_16,0.08551487579427741\r\n",
        "nips4b_birds_testfile0001.wav_classnumber_17,0.030921528977808022\r\n"
       ]
      }
     ],
     "prompt_number": 34
    },
    {
     "cell_type": "markdown",
     "metadata": {},
     "source": [
      "### Exercises\n",
      "\n",
      "1. Instead of replacing the predictions, try combining them in a different way\n",
      "2. Blend more than one independently classified label"
     ]
    },
    {
     "cell_type": "code",
     "collapsed": false,
     "input": [],
     "language": "python",
     "metadata": {},
     "outputs": []
    }
   ],
   "metadata": {}
  }
 ]
}